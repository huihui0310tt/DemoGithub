{
 "cells": [
  {
   "cell_type": "code",
   "execution_count": 103,
   "id": "5b8ec091-c320-4441-8534-d45c7896c897",
   "metadata": {},
   "outputs": [
    {
     "name": "stdout",
     "output_type": "stream",
     "text": [
      "{\n",
      " \"id\": \"2021_03-04\",\n",
      " \"SpecialPrize\": \"59518250\",\n",
      " \"GrandPrize\": \"81016847\",\n",
      " \"FirstPrize1\": \"22884739\",\n",
      " \"FirstPrize2\": \"80660537\",\n",
      " \"FirstPrize3\": \"62637675\",\n",
      " \"Additional_Sixth_Prize\": \"187\",\n",
      " \"_rid\": \"Nh0yAPdTg7ILAAAAAAAAAA==\",\n",
      " \"_self\": \"dbs/Nh0yAA==/colls/Nh0yAPdTg7I=/docs/Nh0yAPdTg7ILAAAAAAAAAA==/\",\n",
      " \"_etag\": \"\\\"0000a927-0000-2300-0000-63aada210000\\\"\",\n",
      " \"_attachments\": \"attachments/\",\n",
      " \"_ts\": 1672141345\n",
      "}\n"
     ]
    }
   ],
   "source": [
    "import os\n",
    "import json\n",
    "from azure.cosmos import CosmosClient, PartitionKey\n",
    "\n",
    "\n",
    "class COSMOSDB:\n",
    "    def __init__(self):\n",
    "        self.endpoint = 'https://11177035finaldb.documents.azure.com:443/'\n",
    "        self.key = '1GFLgFQBNkkPBwZ1H32sCo96teGNa53iu08JAwOkICcezFBw4Q3qz61IYekQxUAIFu1ZW37q9NkBACDbkdt4pQ=='\n",
    "        self.client = CosmosClient(url=self.endpoint, credential=self.key)\n",
    "        self.database = self.client.get_database_client(\"Receipt_DB\")\n",
    "        self.container = self.database.get_container_client(\"receipt\")\n",
    "        \n",
    "    def setter(self, input_data):\n",
    "        self.container.upsert_item(input_data)\n",
    "\n",
    "    def getter(self, qid):\n",
    "        QUERY = \"SELECT * FROM receipt r WHERE r.id = @id\"\n",
    "        params = [dict(name=\"@id\", value=qid)]\n",
    "        items = self.container.query_items(\n",
    "            query=QUERY, parameters=params, enable_cross_partition_query=True\n",
    "        )\n",
    "\n",
    "        for item in items:\n",
    "            print(json.dumps(item, indent=True))\n",
    "\n",
    "            id = item['id']\n",
    "            SpecialPrize = item['SpecialPrize']\n",
    "            GrandPrize = item['GrandPrize']\n",
    "            FirstPrize1 = item['FirstPrize1']\n",
    "            FirstPrize2 = item['FirstPrize2']\n",
    "            FirstPrize3 = item['FirstPrize3']\n",
    "            Additional_Sixth_Prize = str(item['Additional_Sixth_Prize'])\n",
    "        return id, SpecialPrize, GrandPrize, FirstPrize1, FirstPrize2, FirstPrize3, Additional_Sixth_Prize\n",
    "\n",
    "    \n",
    "    def checkprize(self, InvoiceId, SpecialPrize, GrandPrize, FirstPrize1, FirstPrize2, FirstPrize3, Additional_Sixth_Prize):\n",
    "        if InvoiceId == SpecialPrize:\n",
    "            return 'SpecialPrize'\n",
    "        elif InvoiceId == GrandPrize:\n",
    "            return 'GrandPrize'\n",
    "        elif InvoiceId == FirstPrize1 or InvoiceId == FirstPrize[1] or InvoiceId == FirstPrize[2]:\n",
    "            return 'FirstPrize'\n",
    "        elif InvoiceId[1:] == FirstPrize1[1:] or InvoiceId[1:] == FirstPrize2[1:] or InvoiceId[1:] == FirstPrize3[1:]:\n",
    "            return 'SecondPrize'\n",
    "        elif InvoiceId[2:] == FirstPrize1[2:] or InvoiceId[2:] == FirstPrize2[2:] or InvoiceId[2:] == FirstPrize3[2:]:\n",
    "            return 'ThirdPrize'        \n",
    "        elif InvoiceId[3:] == FirstPrize1[3:] or InvoiceId[3:] == FirstPrize2[3:] or InvoiceId[3:] == FirstPrize3[3:]:\n",
    "            return 'FourthPrize'        \n",
    "        elif InvoiceId[4:] == FirstPrize1[4:] or InvoiceId[4:] == FirstPrize2[4:] or InvoiceId[4:] == FirstPrize3[4:]:\n",
    "            return 'FifthPrize'\n",
    "        elif InvoiceId[5:] == FirstPrize1[5:] or InvoiceId[5:] == FirstPrize2[5:] or InvoiceId[5:] == FirstPrize3[5:]:\n",
    "            return 'SixthPrize'\n",
    "        elif Additional_Sixth_Prize != 'None':\n",
    "            if InvoiceId[5:] == Additional_Sixth_Prize:\n",
    "                return 'SixthPrize'\n",
    "            else: \n",
    "                return 'No Prize QQ'\n",
    "        else:\n",
    "            return 'No Prize QQ'\n",
    "\n",
    "db = COSMOSDB() \n",
    "id, SpecialPrize, GrandPrize, FirstPrize1, FirstPrize2, FirstPrize3, Additional_Sixth_Prize = db.getter(qid='2021_03-04')\n",
    "print(db.checkprize('59518187', SpecialPrize, GrandPrize, FirstPrize1, FirstPrize2, FirstPrize3, Additional_Sixth_Prize))\n"
   ]
  },
  {
   "cell_type": "code",
   "execution_count": 105,
   "id": "cb71db5e-6ed0-4e98-a16a-3d114ac7d615",
   "metadata": {},
   "outputs": [
    {
     "name": "stdout",
     "output_type": "stream",
     "text": [
      "SixthPrize\n"
     ]
    }
   ],
   "source": [
    "id, SpecialPrize, GrandPrize, FirstPrize1, FirstPrize2, FirstPrize3, Additional_Sixth_Prize\n",
    "\n",
    "print(db.checkprize('59518187', SpecialPrize, GrandPrize, FirstPrize1, FirstPrize2, FirstPrize3, Additional_Sixth_Prize))\n",
    "\n",
    "\n"
   ]
  }
 ],
 "metadata": {
  "kernelspec": {
   "display_name": "Python 3 (ipykernel)",
   "language": "python",
   "name": "python3"
  },
  "language_info": {
   "codemirror_mode": {
    "name": "ipython",
    "version": 3
   },
   "file_extension": ".py",
   "mimetype": "text/x-python",
   "name": "python",
   "nbconvert_exporter": "python",
   "pygments_lexer": "ipython3",
   "version": "3.7.15"
  }
 },
 "nbformat": 4,
 "nbformat_minor": 5
}
